{
  "nbformat": 4,
  "nbformat_minor": 0,
  "metadata": {
    "colab": {
      "provenance": [],
      "authorship_tag": "ABX9TyOLLk8nw7LnDvVwBkaWUVVW",
      "include_colab_link": true
    },
    "kernelspec": {
      "name": "python3",
      "display_name": "Python 3"
    },
    "language_info": {
      "name": "python"
    }
  },
  "cells": [
    {
      "cell_type": "markdown",
      "metadata": {
        "id": "view-in-github",
        "colab_type": "text"
      },
      "source": [
        "<a href=\"https://colab.research.google.com/github/409090411/Introduction-to-Computers/blob/main/0508.ipynb\" target=\"_parent\"><img src=\"https://colab.research.google.com/assets/colab-badge.svg\" alt=\"Open In Colab\"/></a>"
      ]
    },
    {
      "cell_type": "code",
      "execution_count": 28,
      "metadata": {
        "colab": {
          "base_uri": "https://localhost:8080/"
        },
        "id": "nA0umsq_UYr3",
        "outputId": "13619b6d-8ae5-45e3-fcea-cb98366703e9"
      },
      "outputs": [
        {
          "output_type": "stream",
          "name": "stdout",
          "text": [
            "輸入體溫37\n",
            "體溫略高!\n"
          ]
        }
      ],
      "source": [
        "T=float(input(\"輸入體溫: \"))\n",
        "\n",
        "if (T>=37.5):\n",
        "  print(\"體溫過高!\")\n",
        "\n",
        "elif (37.5>T>36.9):\n",
        "  print(\"體溫略高!\")\n",
        "\n",
        "elif (36.9>T>33.9):\n",
        "  print(\"體溫正常!\")\n",
        "\n",
        "else:\n",
        "  print(\"體溫異常，請重新量測!\")"
      ]
    },
    {
      "cell_type": "code",
      "source": [
        "S=int(input(\"輸入成績: \"))\n",
        "\n",
        "if (S>89):\n",
        "  print(\"A\")\n",
        "\n",
        "elif (90>S>79):\n",
        "  print(\"B\")\n",
        "\n",
        "elif (80>S>69):\n",
        "  print(\"C\")\n",
        "\n",
        "elif (70>S>59):\n",
        "  print(\"D\")\n",
        "\n",
        "else:\n",
        "  print(\"E\")"
      ],
      "metadata": {
        "colab": {
          "base_uri": "https://localhost:8080/"
        },
        "id": "klKacNZIY5SX",
        "outputId": "3efdf880-0e6e-4e2b-9dde-8eb15ac93fb6"
      },
      "execution_count": 30,
      "outputs": [
        {
          "output_type": "stream",
          "name": "stdout",
          "text": [
            "輸入成績80\n",
            "B\n"
          ]
        }
      ]
    },
    {
      "cell_type": "code",
      "source": [
        "P = int(input(\"輸入月份: \"))\n",
        "\n",
        "if P in [3, 4, 5]:\n",
        "  print(str(P) + \"月是春天!\")\n",
        "elif P in [6, 7, 8]:\n",
        "  print(str(P) + \"月是夏天!\")\n",
        "elif P in [9, 10, 11]:\n",
        "  print(str(P) + \"月是秋天!\")\n",
        "elif P in [12, 1, 2]:\n",
        "  print(str(P) + \"月是冬天!\")\n",
        "else:\n",
        "  print(\"月份不在範圍內!\")\n"
      ],
      "metadata": {
        "colab": {
          "base_uri": "https://localhost:8080/"
        },
        "id": "lHVqqWHeXqd5",
        "outputId": "10b3c8a2-340e-4cd0-f7cf-8a241abbc584"
      },
      "execution_count": 37,
      "outputs": [
        {
          "output_type": "stream",
          "name": "stdout",
          "text": [
            "輸入月份: 5\n",
            "5月是春天!\n"
          ]
        }
      ]
    }
  ]
}