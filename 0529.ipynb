{
  "nbformat": 4,
  "nbformat_minor": 0,
  "metadata": {
    "colab": {
      "provenance": [],
      "authorship_tag": "ABX9TyOWAHgVeERs9ZmJTQsiamPL",
      "include_colab_link": true
    },
    "kernelspec": {
      "name": "python3",
      "display_name": "Python 3"
    },
    "language_info": {
      "name": "python"
    }
  },
  "cells": [
    {
      "cell_type": "markdown",
      "metadata": {
        "id": "view-in-github",
        "colab_type": "text"
      },
      "source": [
        "<a href=\"https://colab.research.google.com/github/409090411/Introduction-to-Computers/blob/main/0529.ipynb\" target=\"_parent\"><img src=\"https://colab.research.google.com/assets/colab-badge.svg\" alt=\"Open In Colab\"/></a>"
      ]
    },
    {
      "cell_type": "code",
      "execution_count": null,
      "metadata": {
        "colab": {
          "base_uri": "https://localhost:8080/"
        },
        "id": "rt2cwGCdLcBd",
        "outputId": "4901054d-5f85-4900-a3b1-2c81b621cd76"
      },
      "outputs": [
        {
          "output_type": "stream",
          "name": "stdout",
          "text": [
            "hi\n"
          ]
        }
      ],
      "source": [
        "print(\"hi\")"
      ]
    },
    {
      "cell_type": "code",
      "source": [
        "i = range(5)"
      ],
      "metadata": {
        "id": "vKnWQHvhLhib"
      },
      "execution_count": null,
      "outputs": []
    },
    {
      "cell_type": "code",
      "source": [
        "print(type(i))"
      ],
      "metadata": {
        "colab": {
          "base_uri": "https://localhost:8080/"
        },
        "id": "YFSbQK53Ljwa",
        "outputId": "90e3a294-d498-4537-9cf3-dfff3e1bd235"
      },
      "execution_count": null,
      "outputs": [
        {
          "output_type": "stream",
          "name": "stdout",
          "text": [
            "<class 'range'>\n"
          ]
        }
      ]
    },
    {
      "cell_type": "code",
      "source": [
        "print(i)"
      ],
      "metadata": {
        "colab": {
          "base_uri": "https://localhost:8080/"
        },
        "id": "IaTgWi43LoHI",
        "outputId": "364ab1e1-8efa-4771-ae67-e90ad6be4412"
      },
      "execution_count": null,
      "outputs": [
        {
          "output_type": "stream",
          "name": "stdout",
          "text": [
            "range(0, 5)\n"
          ]
        }
      ]
    },
    {
      "cell_type": "code",
      "source": [
        "print(list(i))"
      ],
      "metadata": {
        "colab": {
          "base_uri": "https://localhost:8080/"
        },
        "id": "PHmoR_xbLpzg",
        "outputId": "e3d6d745-912c-432d-9943-9e3461033e7b"
      },
      "execution_count": null,
      "outputs": [
        {
          "output_type": "stream",
          "name": "stdout",
          "text": [
            "[0, 1, 2, 3, 4]\n"
          ]
        }
      ]
    },
    {
      "cell_type": "code",
      "source": [
        "j= range(10)"
      ],
      "metadata": {
        "id": "c9iuz61QL0iS"
      },
      "execution_count": null,
      "outputs": []
    },
    {
      "cell_type": "code",
      "source": [
        "a = range(3,8)\n",
        "print(list(a))"
      ],
      "metadata": {
        "colab": {
          "base_uri": "https://localhost:8080/"
        },
        "id": "0l8Db8WHLtRw",
        "outputId": "c5d71b63-8b00-4992-b7c3-6ca3d4992d34"
      },
      "execution_count": null,
      "outputs": [
        {
          "output_type": "stream",
          "name": "stdout",
          "text": [
            "[3, 4, 5, 6, 7]\n"
          ]
        }
      ]
    },
    {
      "cell_type": "code",
      "source": [
        "b = range(-2,4)\n",
        "print(list(b))"
      ],
      "metadata": {
        "colab": {
          "base_uri": "https://localhost:8080/"
        },
        "id": "fyW9AcLgL-M5",
        "outputId": "a7ab3e98-cdaf-4f34-d68a-761f709315d5"
      },
      "execution_count": null,
      "outputs": [
        {
          "output_type": "stream",
          "name": "stdout",
          "text": [
            "[-2, -1, 0, 1, 2, 3]\n"
          ]
        }
      ]
    },
    {
      "cell_type": "code",
      "source": [
        "list1= range(1,11)\n",
        "print(list(list1))"
      ],
      "metadata": {
        "colab": {
          "base_uri": "https://localhost:8080/"
        },
        "id": "eXJPjuxLMRRo",
        "outputId": "bd920eb7-b236-468e-bdc1-963aa3ab3e9f"
      },
      "execution_count": null,
      "outputs": [
        {
          "output_type": "stream",
          "name": "stdout",
          "text": [
            "[1, 2, 3, 4, 5, 6, 7, 8, 9, 10]\n"
          ]
        }
      ]
    },
    {
      "cell_type": "code",
      "source": [
        "c=range(3,8,1)\n",
        "print(list(c))"
      ],
      "metadata": {
        "colab": {
          "base_uri": "https://localhost:8080/"
        },
        "id": "2Z9n18GhMu-w",
        "outputId": "5a104a91-a2cb-4fd1-8a6d-cc889a57ad42"
      },
      "execution_count": null,
      "outputs": [
        {
          "output_type": "stream",
          "name": "stdout",
          "text": [
            "[3, 4, 5, 6, 7]\n"
          ]
        }
      ]
    },
    {
      "cell_type": "code",
      "source": [
        "d=range(8,3,-1)\n",
        "print(list(d))"
      ],
      "metadata": {
        "colab": {
          "base_uri": "https://localhost:8080/"
        },
        "id": "gTLG-qALM6op",
        "outputId": "9fc712c8-e925-4a77-ffb2-210db53e3ec7"
      },
      "execution_count": null,
      "outputs": [
        {
          "output_type": "stream",
          "name": "stdout",
          "text": [
            "[8, 7, 6, 5, 4]\n"
          ]
        }
      ]
    },
    {
      "cell_type": "code",
      "source": [
        "e=range(8,3,-2)\n",
        "print(list(e))"
      ],
      "metadata": {
        "colab": {
          "base_uri": "https://localhost:8080/"
        },
        "id": "sClqhs4HNOA5",
        "outputId": "df49b063-1ece-4e8b-e5cb-ffba883eef92"
      },
      "execution_count": null,
      "outputs": [
        {
          "output_type": "stream",
          "name": "stdout",
          "text": [
            "[8, 6, 4]\n"
          ]
        }
      ]
    },
    {
      "cell_type": "code",
      "source": [
        "f=range(9)\n",
        "print(list(f))\n",
        "g=range(1,10)\n",
        "print(list(g))\n",
        "h=range(1,10,2)\n",
        "print(list(h))\n",
        "i=range(10,1,-2)\n",
        "print(list(i))"
      ],
      "metadata": {
        "colab": {
          "base_uri": "https://localhost:8080/"
        },
        "id": "KnImu7ywNEMy",
        "outputId": "e1b12bfa-bdf8-494f-f7a3-4e1abe1f0be1"
      },
      "execution_count": null,
      "outputs": [
        {
          "output_type": "stream",
          "name": "stdout",
          "text": [
            "[0, 1, 2, 3, 4, 5, 6, 7, 8]\n",
            "[1, 2, 3, 4, 5, 6, 7, 8, 9]\n",
            "[1, 3, 5, 7, 9]\n",
            "[10, 8, 6, 4, 2]\n"
          ]
        }
      ]
    },
    {
      "cell_type": "code",
      "source": [
        "for n in range(10):\n",
        "  print(n,end=',')"
      ],
      "metadata": {
        "colab": {
          "base_uri": "https://localhost:8080/"
        },
        "id": "_4VjX0DDNSlq",
        "outputId": "83b15485-1870-4f5b-c97c-6ebdd8054c26"
      },
      "execution_count": null,
      "outputs": [
        {
          "output_type": "stream",
          "name": "stdout",
          "text": [
            "0,1,2,3,4,5,6,7,8,9,"
          ]
        }
      ]
    },
    {
      "cell_type": "code",
      "source": [
        "test=int(input(\"請輸入一個正整數:\"))\n",
        "for m in range(1,test+1):\n",
        "  print(m,end=' ')"
      ],
      "metadata": {
        "colab": {
          "base_uri": "https://localhost:8080/"
        },
        "id": "z_M6_3xlONnR",
        "outputId": "4f2e5120-3995-4113-e58c-0dc4983ac211"
      },
      "execution_count": null,
      "outputs": [
        {
          "output_type": "stream",
          "name": "stdout",
          "text": [
            "請輸入一個正整數:10\n",
            "1 2 3 4 5 6 7 8 9 10 "
          ]
        }
      ]
    },
    {
      "cell_type": "code",
      "source": [
        "test=int(input(\"請輸入一個正整數:\"))\n",
        "for m in range(1,test+1,2):\n",
        "  print(m,end=' ')"
      ],
      "metadata": {
        "colab": {
          "base_uri": "https://localhost:8080/"
        },
        "id": "z3-ozUg9OV_J",
        "outputId": "0b6237b6-cb1a-4782-91de-7e20dba7b2f7"
      },
      "execution_count": null,
      "outputs": [
        {
          "output_type": "stream",
          "name": "stdout",
          "text": [
            "請輸入一個正整數:10\n",
            "1 3 5 7 9 "
          ]
        }
      ]
    },
    {
      "cell_type": "code",
      "source": [
        "sum = 0\n",
        "for n in range(3):\n",
        "  sum=sum+n\n",
        "print(sum)"
      ],
      "metadata": {
        "colab": {
          "base_uri": "https://localhost:8080/"
        },
        "id": "zUcOedB3OyXX",
        "outputId": "cf5c7840-369c-42aa-dd66-8d8ce1f4d0c3"
      },
      "execution_count": null,
      "outputs": [
        {
          "output_type": "stream",
          "name": "stdout",
          "text": [
            "3\n"
          ]
        }
      ]
    },
    {
      "cell_type": "code",
      "source": [
        "sum = 0\n",
        "for n in range(5):\n",
        "  sum=sum+n\n",
        "print(sum)"
      ],
      "metadata": {
        "colab": {
          "base_uri": "https://localhost:8080/"
        },
        "id": "lrGAt7OPPSWB",
        "outputId": "fa4c5e6a-1dec-4fc5-85c7-9b9a1cb88bac"
      },
      "execution_count": null,
      "outputs": [
        {
          "output_type": "stream",
          "name": "stdout",
          "text": [
            "10\n"
          ]
        }
      ]
    },
    {
      "cell_type": "code",
      "source": [
        "a = int(input(\"請輸入一個正整數:\"))\n",
        "sum = 0\n",
        "for n in range(1, a + 1):\n",
        "    sum = sum + n\n",
        "print(\"1到\" + str(a) + \"的整數和為\" + str(sum))"
      ],
      "metadata": {
        "colab": {
          "base_uri": "https://localhost:8080/"
        },
        "id": "X53895CpPa-4",
        "outputId": "771c94ff-1157-43ef-bf12-2d91609ec8d7"
      },
      "execution_count": null,
      "outputs": [
        {
          "output_type": "stream",
          "name": "stdout",
          "text": [
            "請輸入一個正整數:10\n",
            "1到10的整數和為55\n"
          ]
        }
      ]
    },
    {
      "cell_type": "code",
      "source": [
        "a = int(input(\"請輸入一個正整數:\"))\n",
        "for n in range(1, a + 1):\n",
        "    sum = 0\n",
        "    for n in range(1, n + 1):\n",
        "        sum = sum + n\n",
        "    print(\"1到{}的整數和為{}\".format(n, sum))\n"
      ],
      "metadata": {
        "colab": {
          "base_uri": "https://localhost:8080/"
        },
        "id": "14QMwcQiF-Qx",
        "outputId": "2f22c19d-984a-473b-988c-269040292f16"
      },
      "execution_count": 9,
      "outputs": [
        {
          "output_type": "stream",
          "name": "stdout",
          "text": [
            "請輸入一個正整數:10\n",
            "1到1的整數和為1\n",
            "1到2的整數和為3\n",
            "1到3的整數和為6\n",
            "1到4的整數和為10\n",
            "1到5的整數和為15\n",
            "1到6的整數和為21\n",
            "1到7的整數和為28\n",
            "1到8的整數和為36\n",
            "1到9的整數和為45\n",
            "1到10的整數和為55\n"
          ]
        }
      ]
    }
  ]
}