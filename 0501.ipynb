{
  "cells": [
    {
      "cell_type": "markdown",
      "metadata": {
        "id": "view-in-github",
        "colab_type": "text"
      },
      "source": [
        "<a href=\"https://colab.research.google.com/github/409090411/Introduction-to-Computers/blob/main/0501.ipynb\" target=\"_parent\"><img src=\"https://colab.research.google.com/assets/colab-badge.svg\" alt=\"Open In Colab\"/></a>"
      ]
    },
    {
      "cell_type": "code",
      "execution_count": null,
      "id": "8192cb0e-19cf-4528-8de5-4476530d3f0b",
      "metadata": {
        "id": "8192cb0e-19cf-4528-8de5-4476530d3f0b",
        "outputId": "7454ce0b-72b0-4911-a5ee-50f223f1b431"
      },
      "outputs": [
        {
          "name": "stdout",
          "output_type": "stream",
          "text": [
            "0501\n"
          ]
        }
      ],
      "source": [
        "print(\"0501\")"
      ]
    },
    {
      "cell_type": "code",
      "execution_count": null,
      "id": "ea5dd588-eb0d-43a3-b30d-e2ed9f180cef",
      "metadata": {
        "id": "ea5dd588-eb0d-43a3-b30d-e2ed9f180cef"
      },
      "outputs": [],
      "source": [
        "1    1"
      ]
    },
    {
      "cell_type": "code",
      "execution_count": null,
      "id": "8dcfbbcc-77e5-4ad0-8667-4961273cc1df",
      "metadata": {
        "id": "8dcfbbcc-77e5-4ad0-8667-4961273cc1df",
        "outputId": "60b66aa8-1112-4cf8-c50c-a91691c84abf"
      },
      "outputs": [
        {
          "name": "stdin",
          "output_type": "stream",
          "text": [
            "請輸入分數 70\n"
          ]
        },
        {
          "name": "stdout",
          "output_type": "stream",
          "text": [
            "及格\n"
          ]
        }
      ],
      "source": [
        "score=int(input(\"請輸入分數\"))\n",
        "if (score >= 60):\n",
        "        print(\"及格\")"
      ]
    },
    {
      "cell_type": "code",
      "execution_count": null,
      "id": "2cdfcf2c-2b5f-4264-9112-c6b4b2742e1f",
      "metadata": {
        "id": "2cdfcf2c-2b5f-4264-9112-c6b4b2742e1f",
        "outputId": "36238641-5311-4f81-d23a-fca693a43765"
      },
      "outputs": [
        {
          "name": "stdout",
          "output_type": "stream",
          "text": [
            "英文比較高\n"
          ]
        }
      ],
      "source": [
        "數學=60\n",
        "英文=70\n",
        "if 數學>英文:\n",
        "    print(\"數學比較高\")\n",
        "else:\n",
        "    print(\"英文比較高\")"
      ]
    },
    {
      "cell_type": "code",
      "execution_count": null,
      "id": "427a2fc6-bf9f-40bf-9d5b-8d565cb3eaba",
      "metadata": {
        "id": "427a2fc6-bf9f-40bf-9d5b-8d565cb3eaba",
        "outputId": "395fac9b-c669-4b09-ac1a-56294760a721"
      },
      "outputs": [
        {
          "name": "stdin",
          "output_type": "stream",
          "text": [
            "請輸入正確密碼 1234\n"
          ]
        },
        {
          "name": "stdout",
          "output_type": "stream",
          "text": [
            "歡迎光臨!\n"
          ]
        }
      ],
      "source": [
        "a=int(input(\"請輸入正確密碼\"))\n",
        "if (a==1234):\n",
        "    print(\"歡迎光臨!\")"
      ]
    },
    {
      "cell_type": "code",
      "execution_count": null,
      "id": "9d973a39-b49b-4d6c-b463-dd91ff96ca92",
      "metadata": {
        "id": "9d973a39-b49b-4d6c-b463-dd91ff96ca92",
        "outputId": "fb98d63a-0101-4935-fa47-2043a6f43360"
      },
      "outputs": [
        {
          "name": "stdin",
          "output_type": "stream",
          "text": [
            "今天會下雨嗎? y\n"
          ]
        },
        {
          "name": "stdout",
          "output_type": "stream",
          "text": [
            "出門記得帶傘!\n"
          ]
        }
      ],
      "source": [
        "b = input(\"今天會下雨嗎?\")\n",
        "if (b==\"Y\" or b==\"y\"):\n",
        "    print(\"出門記得帶傘!\")"
      ]
    },
    {
      "cell_type": "code",
      "execution_count": null,
      "id": "97ad0435-2e21-414b-a5f6-c07ab93a3b71",
      "metadata": {
        "id": "97ad0435-2e21-414b-a5f6-c07ab93a3b71",
        "outputId": "f6473494-9103-48ff-9ca3-e99280920ad7"
      },
      "outputs": [
        {
          "name": "stdin",
          "output_type": "stream",
          "text": [
            "請輸入正確密碼 1111\n"
          ]
        },
        {
          "name": "stdout",
          "output_type": "stream",
          "text": [
            "密碼錯誤!\n"
          ]
        }
      ],
      "source": [
        "a=int(input(\"請輸入正確密碼\"))\n",
        "if (a==1234):\n",
        "    print(\"歡迎光臨!\")\n",
        "else:\n",
        "    print(\"密碼錯誤!\")"
      ]
    },
    {
      "cell_type": "code",
      "execution_count": null,
      "id": "eb013a64-f0b0-4fd0-a2ec-53f29ba5440d",
      "metadata": {
        "id": "eb013a64-f0b0-4fd0-a2ec-53f29ba5440d",
        "outputId": "7ff4227b-6cc1-4af2-d22a-37a7c73e184c"
      },
      "outputs": [
        {
          "name": "stdin",
          "output_type": "stream",
          "text": [
            "今天會下雨嗎? n\n"
          ]
        },
        {
          "name": "stdout",
          "output_type": "stream",
          "text": [
            "不用帶傘\n"
          ]
        }
      ],
      "source": [
        "b = input(\"今天會下雨嗎?\")\n",
        "if (b==\"Y\" or b==\"y\"):\n",
        "    print(\"出門記得帶傘!\")\n",
        "else:\n",
        "    print(\"不用帶傘\")"
      ]
    },
    {
      "cell_type": "code",
      "execution_count": null,
      "id": "e6282bd1-4487-4bb8-a2c7-107849b2f197",
      "metadata": {
        "id": "e6282bd1-4487-4bb8-a2c7-107849b2f197",
        "outputId": "77c5a917-31d1-4d2f-ec2a-6f6da5df9e29"
      },
      "outputs": [
        {
          "name": "stdin",
          "output_type": "stream",
          "text": [
            "請輸入正整數: 50\n"
          ]
        },
        {
          "name": "stdout",
          "output_type": "stream",
          "text": [
            "為偶數\n"
          ]
        }
      ],
      "source": [
        "c = int(input(\"請輸入正整數:\"))\n",
        "if (c%2)==0:\n",
        "    print(\"為偶數\")\n",
        "else:\n",
        "    print(\"為奇數\")"
      ]
    }
  ],
  "metadata": {
    "kernelspec": {
      "display_name": "Python 3 (ipykernel)",
      "language": "python",
      "name": "python3"
    },
    "language_info": {
      "codemirror_mode": {
        "name": "ipython",
        "version": 3
      },
      "file_extension": ".py",
      "mimetype": "text/x-python",
      "name": "python",
      "nbconvert_exporter": "python",
      "pygments_lexer": "ipython3",
      "version": "3.11.7"
    },
    "colab": {
      "provenance": [],
      "include_colab_link": true
    }
  },
  "nbformat": 4,
  "nbformat_minor": 5
}